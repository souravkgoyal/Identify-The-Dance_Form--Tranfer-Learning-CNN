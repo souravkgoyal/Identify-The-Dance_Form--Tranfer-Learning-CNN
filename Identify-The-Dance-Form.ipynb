{
 "cells": [
  {
   "cell_type": "markdown",
   "metadata": {},
   "source": [
    "# Problem Statement"
   ]
  },
  {
   "cell_type": "markdown",
   "metadata": {},
   "source": [
    "Build an image tagging Deep Learning model that can help the company classify these images into eight categories of Indian classical dance."
   ]
  },
  {
   "cell_type": "markdown",
   "metadata": {},
   "source": [
    "## Importing Required Libraries[](http://)"
   ]
  },
  {
   "cell_type": "code",
   "execution_count": 2,
   "metadata": {
    "_cell_guid": "79c7e3d0-c299-4dcb-8224-4455121ee9b0",
    "_uuid": "d629ff2d2480ee46fbb7e2d37f6b5fab8052498a"
   },
   "outputs": [],
   "source": [
    "import numpy as np\n",
    "import pandas as pd \n",
    "import matplotlib.pyplot as plt\n",
    "import seaborn as sns\n",
    "import tensorflow as tf\n",
    "from tensorflow import keras\n",
    "import os\n",
    "import random\n",
    "from shutil import copyfile"
   ]
  },
  {
   "cell_type": "markdown",
   "metadata": {},
   "source": [
    "Reading the train and test directory containing images and csv files containing images names and labels"
   ]
  },
  {
   "cell_type": "code",
   "execution_count": 3,
   "metadata": {},
   "outputs": [],
   "source": [
    "train_dir = '/kaggle/input/train/'\n",
    "test_dir = '/kaggle/input/test/'\n",
    "train_csv = pd.read_csv(r'/kaggle/input/train.csv')\n",
    "test_csv = pd.read_csv(r'/kaggle/input/test.csv')"
   ]
  },
  {
   "cell_type": "code",
   "execution_count": 4,
   "metadata": {},
   "outputs": [
    {
     "data": {
      "text/html": [
       "<div>\n",
       "<style scoped>\n",
       "    .dataframe tbody tr th:only-of-type {\n",
       "        vertical-align: middle;\n",
       "    }\n",
       "\n",
       "    .dataframe tbody tr th {\n",
       "        vertical-align: top;\n",
       "    }\n",
       "\n",
       "    .dataframe thead th {\n",
       "        text-align: right;\n",
       "    }\n",
       "</style>\n",
       "<table border=\"1\" class=\"dataframe\">\n",
       "  <thead>\n",
       "    <tr style=\"text-align: right;\">\n",
       "      <th></th>\n",
       "      <th>Image</th>\n",
       "      <th>target</th>\n",
       "    </tr>\n",
       "  </thead>\n",
       "  <tbody>\n",
       "    <tr>\n",
       "      <th>0</th>\n",
       "      <td>96.jpg</td>\n",
       "      <td>manipuri</td>\n",
       "    </tr>\n",
       "    <tr>\n",
       "      <th>1</th>\n",
       "      <td>163.jpg</td>\n",
       "      <td>bharatanatyam</td>\n",
       "    </tr>\n",
       "    <tr>\n",
       "      <th>2</th>\n",
       "      <td>450.jpg</td>\n",
       "      <td>odissi</td>\n",
       "    </tr>\n",
       "    <tr>\n",
       "      <th>3</th>\n",
       "      <td>219.jpg</td>\n",
       "      <td>kathakali</td>\n",
       "    </tr>\n",
       "    <tr>\n",
       "      <th>4</th>\n",
       "      <td>455.jpg</td>\n",
       "      <td>odissi</td>\n",
       "    </tr>\n",
       "  </tbody>\n",
       "</table>\n",
       "</div>"
      ],
      "text/plain": [
       "     Image         target\n",
       "0   96.jpg       manipuri\n",
       "1  163.jpg  bharatanatyam\n",
       "2  450.jpg         odissi\n",
       "3  219.jpg      kathakali\n",
       "4  455.jpg         odissi"
      ]
     },
     "execution_count": 4,
     "metadata": {},
     "output_type": "execute_result"
    }
   ],
   "source": [
    "train_csv.head()"
   ]
  },
  {
   "cell_type": "markdown",
   "metadata": {},
   "source": [
    "## Preparing Data for training"
   ]
  },
  {
   "cell_type": "markdown",
   "metadata": {},
   "source": [
    "Making the required directories for flow_from_directory command\n",
    "\n",
    "Making source directory with 8 sub categories named as the 8 dance forms given in the train.csv file to keep all the images present in the train directory provided for the competition\n",
    "\n",
    "Similarly, Making training directory with 8 sub categories named as the 8 dance forms given in the train.csv file to keep the images used for training after the splitting of train and validation images\n",
    "\n",
    "Similarly, Making testing directory with 8 sub categories named as the 8 dance forms given in the train.csv file to keep the images used for validation after the splitting of train and validation images\n",
    "\n",
    "Making tests directory with sub directory unknown to contain test directory images for predict_generator"
   ]
  },
  {
   "cell_type": "code",
   "execution_count": 5,
   "metadata": {},
   "outputs": [],
   "source": [
    "os.mkdir(r'/kaggle/working/identify-dance-form')\n",
    "os.mkdir(r'/kaggle/working/identify-dance-form/training')\n",
    "os.mkdir(r'/kaggle/working/identify-dance-form/testing')\n",
    "os.mkdir(r'/kaggle/working/identify-dance-form/source')\n",
    "os.mkdir(r'/kaggle/working/identify-dance-form/training/manipuri')\n",
    "os.mkdir(r'/kaggle/working/identify-dance-form/testing/manipuri')\n",
    "os.mkdir(r'/kaggle/working/identify-dance-form/source/manipuri')\n",
    "os.mkdir(r'/kaggle/working/identify-dance-form/training/bharatanatyam')\n",
    "os.mkdir(r'/kaggle/working/identify-dance-form/testing/bharatanatyam')\n",
    "os.mkdir(r'/kaggle/working/identify-dance-form/source/bharatanatyam')\n",
    "os.mkdir(r'/kaggle/working/identify-dance-form/training/odissi')\n",
    "os.mkdir(r'/kaggle/working/identify-dance-form/testing/odissi')\n",
    "os.mkdir(r'/kaggle/working/identify-dance-form/source/odissi')\n",
    "os.mkdir(r'/kaggle/working/identify-dance-form/training/kathakali')\n",
    "os.mkdir(r'/kaggle/working/identify-dance-form/testing/kathakali')\n",
    "os.mkdir(r'/kaggle/working/identify-dance-form/source/kathakali')\n",
    "os.mkdir(r'/kaggle/working/identify-dance-form/training/kathak')\n",
    "os.mkdir(r'/kaggle/working/identify-dance-form/testing/kathak')\n",
    "os.mkdir(r'/kaggle/working/identify-dance-form/source/kathak')\n",
    "os.mkdir(r'/kaggle/working/identify-dance-form/training/sattriya')\n",
    "os.mkdir(r'/kaggle/working/identify-dance-form/testing/sattriya')\n",
    "os.mkdir(r'/kaggle/working/identify-dance-form/source/sattriya')\n",
    "os.mkdir(r'/kaggle/working/identify-dance-form/training/kuchipudi')\n",
    "os.mkdir(r'/kaggle/working/identify-dance-form/testing/kuchipudi')\n",
    "os.mkdir(r'/kaggle/working/identify-dance-form/source/kuchipudi')\n",
    "os.mkdir(r'/kaggle/working/identify-dance-form/training/mohiniyattam')\n",
    "os.mkdir(r'/kaggle/working/identify-dance-form/testing/mohiniyattam')\n",
    "os.mkdir(r'/kaggle/working/identify-dance-form/source/mohiniyattam')\n",
    "os.mkdir('/kaggle/working/identify-dance-form/tests')\n",
    "os.mkdir('/kaggle/working/identify-dance-form/tests/unknown')"
   ]
  },
  {
   "cell_type": "markdown",
   "metadata": {},
   "source": [
    "Reading the jpg files from the train directory and saving their names in the list named files"
   ]
  },
  {
   "cell_type": "code",
   "execution_count": 6,
   "metadata": {},
   "outputs": [],
   "source": [
    "files = []\n",
    "for  r, d, f in os.walk(train_dir):\n",
    "    for file in f:\n",
    "        if '.jpg' in file:\n",
    "            files.append(file)"
   ]
  },
  {
   "cell_type": "markdown",
   "metadata": {},
   "source": [
    "One of the images from train directory"
   ]
  },
  {
   "cell_type": "code",
   "execution_count": 8,
   "metadata": {},
   "outputs": [
    {
     "data": {
      "text/plain": [
       "<matplotlib.image.AxesImage at 0x7f36d5961050>"
      ]
     },
     "execution_count": 8,
     "metadata": {},
     "output_type": "execute_result"
    },
    {
     "data": {
      "image/png": "[encoded data removed]",
      "text/plain": [
       "<Figure size 432x288 with 1 Axes>"
      ]
     },
     "metadata": {
      "needs_background": "light"
     },
     "output_type": "display_data"
    }
   ],
   "source": [
    "import matplotlib.image as mpimg\n",
    "plt.imshow(mpimg.imread(os.path.join(train_dir,files[0])))"
   ]
  },
  {
   "cell_type": "markdown",
   "metadata": {},
   "source": [
    "Copying images from the train directory to the Source directory's sub folders based on the labels of the images provided in train.csv file"
   ]
  },
  {
   "cell_type": "code",
   "execution_count": 9,
   "metadata": {},
   "outputs": [],
   "source": [
    "for x in files:\n",
    "    if (train_csv[train_csv['Image'] == x]['target'] == 'odissi').bool():\n",
    "        train_temp = os.path.join(train_dir,x)\n",
    "        final_train = os.path.join('/kaggle/working/identify-dance-form/source/odissi/',x)\n",
    "        copyfile(train_temp, final_train)\n",
    "    elif (train_csv[train_csv['Image'] == x]['target'] == 'manipuri').bool():\n",
    "        train_temp = os.path.join(train_dir,x)\n",
    "        final_train = os.path.join('/kaggle/working/identify-dance-form/source/manipuri/',x)\n",
    "        copyfile(train_temp, final_train)\n",
    "    elif (train_csv[train_csv['Image'] == x]['target'] == 'bharatanatyam').bool():\n",
    "        train_temp = os.path.join(train_dir,x)\n",
    "        final_train = os.path.join('/kaggle/working/identify-dance-form/source/bharatanatyam/',x)\n",
    "        copyfile(train_temp, final_train)\n",
    "    elif (train_csv[train_csv['Image'] == x]['target'] == 'kathakali').bool():\n",
    "        train_temp = os.path.join(train_dir,x)\n",
    "        final_train = os.path.join('/kaggle/working/identify-dance-form/source/kathakali/',x)\n",
    "        copyfile(train_temp, final_train)\n",
    "    elif (train_csv[train_csv['Image'] == x]['target'] == 'kathak').bool():\n",
    "        train_temp = os.path.join(train_dir,x)\n",
    "        final_train = os.path.join('/kaggle/working/identify-dance-form/source/kathak/',x)\n",
    "        copyfile(train_temp, final_train)\n",
    "    elif (train_csv[train_csv['Image'] == x]['target'] == 'sattriya').bool():\n",
    "        train_temp = os.path.join(train_dir,x)\n",
    "        final_train = os.path.join('/kaggle/working/identify-dance-form/source/sattriya/',x)\n",
    "        copyfile(train_temp, final_train)\n",
    "    elif (train_csv[train_csv['Image'] == x]['target'] == 'kuchipudi').bool():\n",
    "        train_temp = os.path.join(train_dir,x)\n",
    "        final_train = os.path.join('/kaggle/working/identify-dance-form/source/kuchipudi/',x)\n",
    "        copyfile(train_temp, final_train)\n",
    "    elif (train_csv[train_csv['Image'] == x]['target'] == 'mohiniyattam').bool():\n",
    "        train_temp = os.path.join(train_dir,x)\n",
    "        final_train = os.path.join('/kaggle/working/identify-dance-form/source/mohiniyattam/',x)\n",
    "        copyfile(train_temp, final_train)"
   ]
  },
  {
   "cell_type": "markdown",
   "metadata": {},
   "source": [
    "Defining the function for splitting the Source Diretory images into training and testing(validation) directories "
   ]
  },
  {
   "cell_type": "code",
   "execution_count": 10,
   "metadata": {},
   "outputs": [],
   "source": [
    "def split_data(SOURCE, TRAINING, TESTING, SPLIT_SIZE):\n",
    "    shuffle=random.sample(os.listdir(SOURCE),len(os.listdir(SOURCE)))\n",
    "    train_data_length=int(len(os.listdir(SOURCE))*SPLIT_SIZE)\n",
    "    test_data_length=int(len(os.listdir(SOURCE))-train_data_length)\n",
    "    train_data=shuffle[0:train_data_length]\n",
    "    test_data=shuffle[-test_data_length:]\n",
    "    for x in train_data:\n",
    "        train_temp=os.path.join(SOURCE,x)\n",
    "        final_train=os.path.join(TRAINING,x)\n",
    "        copyfile(train_temp,final_train)\n",
    "    for x in test_data:\n",
    "        test_temp=os.path.join(SOURCE,x)\n",
    "        final_test=os.path.join(TESTING,x)\n",
    "        copyfile(test_temp,final_test)"
   ]
  },
  {
   "cell_type": "code",
   "execution_count": 11,
   "metadata": {},
   "outputs": [],
   "source": [
    "bhatanatyam_source_dir = '/kaggle/working/identify-dance-form/source/bharatanatyam/'\n",
    "bhatanatyam_training_dir = '/kaggle/working/identify-dance-form/training/bharatanatyam/'\n",
    "bhatanatyam_testing_dir = '/kaggle/working/identify-dance-form/testing/bharatanatyam/'\n",
    "\n",
    "kathak_source_dir = '/kaggle/working/identify-dance-form/source/kathak/'\n",
    "kathak_training_dir = '/kaggle/working/identify-dance-form/training/kathak/'\n",
    "kathak_testing_dir = '/kaggle/working/identify-dance-form/testing/kathak/'\n",
    "\n",
    "kathakali_source_dir = '/kaggle/working/identify-dance-form/source/kathakali/'\n",
    "kathakali_training_dir = '/kaggle/working/identify-dance-form/training/kathakali/'\n",
    "kathakali_testing_dir = '/kaggle/working/identify-dance-form/testing/kathakali/'\n",
    "\n",
    "kuchipudi_source_dir = '/kaggle/working/identify-dance-form/source/kuchipudi/'\n",
    "kuchipudi_training_dir = '/kaggle/working/identify-dance-form/training/kuchipudi/'\n",
    "kuchipudi_testing_dir = '/kaggle/working/identify-dance-form/testing/kuchipudi/'\n",
    "\n",
    "manipuri_source_dir = '/kaggle/working/identify-dance-form/source/manipuri/'\n",
    "manipuri_training_dir = '/kaggle/working/identify-dance-form/training/manipuri/'\n",
    "manipuri_testing_dir = '/kaggle/working/identify-dance-form/testing/manipuri/'\n",
    "\n",
    "mohiniyattam_source_dir = '/kaggle/working/identify-dance-form/source/mohiniyattam/'\n",
    "mohiniyattam_training_dir = '/kaggle/working/identify-dance-form/training/mohiniyattam/'\n",
    "mohiniyattam_testing_dir = '/kaggle/working/identify-dance-form/testing/mohiniyattam/'\n",
    "\n",
    "odissi_source_dir = '/kaggle/working/identify-dance-form/source/odissi/'\n",
    "odissi_training_dir = '/kaggle/working/identify-dance-form/training/odissi/'\n",
    "odissi_testing_dir = '/kaggle/working/identify-dance-form/testing/odissi/'\n",
    "\n",
    "sattriya_source_dir = '/kaggle/working/identify-dance-form/source/sattriya/'\n",
    "sattriya_training_dir = '/kaggle/working/identify-dance-form/training/sattriya/'\n",
    "sattriya_testing_dir = '/kaggle/working/identify-dance-form/testing/sattriya/'"
   ]
  },
  {
   "cell_type": "markdown",
   "metadata": {},
   "source": [
    "Splitting the Source Diretory images into training and testing(validation) sub directories "
   ]
  },
  {
   "cell_type": "code",
   "execution_count": 12,
   "metadata": {},
   "outputs": [],
   "source": [
    "split_size = 0.85\n",
    "split_data(bhatanatyam_source_dir, bhatanatyam_training_dir, bhatanatyam_testing_dir, split_size)\n",
    "split_data(sattriya_source_dir, sattriya_training_dir, sattriya_testing_dir, split_size)\n",
    "split_data(odissi_source_dir, odissi_training_dir, odissi_testing_dir, split_size)\n",
    "split_data(mohiniyattam_source_dir, mohiniyattam_training_dir, mohiniyattam_testing_dir, split_size)\n",
    "split_data(manipuri_source_dir, manipuri_training_dir, manipuri_testing_dir, split_size)\n",
    "split_data(kuchipudi_source_dir, kuchipudi_training_dir, kuchipudi_testing_dir, split_size)\n",
    "split_data(kathakali_source_dir, kathakali_training_dir, kathakali_testing_dir, split_size)\n",
    "split_data(kathak_source_dir, kathak_training_dir, kathak_testing_dir, split_size)"
   ]
  },
  {
   "cell_type": "markdown",
   "metadata": {},
   "source": [
    "Importing VGG16 Model for Pre-training"
   ]
  },
  {
   "cell_type": "code",
   "execution_count": 13,
   "metadata": {},
   "outputs": [],
   "source": [
    "from tensorflow.keras.applications.vgg16 import VGG16"
   ]
  },
  {
   "cell_type": "markdown",
   "metadata": {},
   "source": [
    "Initializing VGG16 Model"
   ]
  },
  {
   "cell_type": "code",
   "execution_count": 14,
   "metadata": {},
   "outputs": [
    {
     "name": "stdout",
     "output_type": "stream",
     "text": [
      "Downloading data from https://github.com/fchollet/deep-learning-models/releases/download/v0.1/vgg16_weights_tf_dim_ordering_tf_kernels_notop.h5\n",
      "58892288/58889256 [==============================] - 1s 0us/step\n"
     ]
    }
   ],
   "source": [
    "pre_trained_model = VGG16(include_top = False,\n",
    "                            input_shape = (156,156,3),\n",
    "                            weights = 'imagenet')"
   ]
  },
  {
   "cell_type": "code",
   "execution_count": 15,
   "metadata": {},
   "outputs": [
    {
     "name": "stdout",
     "output_type": "stream",
     "text": [
      "Model: \"vgg16\"\n",
      "_________________________________________________________________\n",
      "Layer (type)                 Output Shape              Param #   \n",
      "=================================================================\n",
      "input_1 (InputLayer)         [(None, 156, 156, 3)]     0         \n",
      "_________________________________________________________________\n",
      "block1_conv1 (Conv2D)        (None, 156, 156, 64)      1792      \n",
      "_________________________________________________________________\n",
      "block1_conv2 (Conv2D)        (None, 156, 156, 64)      36928     \n",
      "_________________________________________________________________\n",
      "block1_pool (MaxPooling2D)   (None, 78, 78, 64)        0         \n",
      "_________________________________________________________________\n",
      "block2_conv1 (Conv2D)        (None, 78, 78, 128)       73856     \n",
      "_________________________________________________________________\n",
      "block2_conv2 (Conv2D)        (None, 78, 78, 128)       147584    \n",
      "_________________________________________________________________\n",
      "block2_pool (MaxPooling2D)   (None, 39, 39, 128)       0         \n",
      "_________________________________________________________________\n",
      "block3_conv1 (Conv2D)        (None, 39, 39, 256)       295168    \n",
      "_________________________________________________________________\n",
      "block3_conv2 (Conv2D)        (None, 39, 39, 256)       590080    \n",
      "_________________________________________________________________\n",
      "block3_conv3 (Conv2D)        (None, 39, 39, 256)       590080    \n",
      "_________________________________________________________________\n",
      "block3_pool (MaxPooling2D)   (None, 19, 19, 256)       0         \n",
      "_________________________________________________________________\n",
      "block4_conv1 (Conv2D)        (None, 19, 19, 512)       1180160   \n",
      "_________________________________________________________________\n",
      "block4_conv2 (Conv2D)        (None, 19, 19, 512)       2359808   \n",
      "_________________________________________________________________\n",
      "block4_conv3 (Conv2D)        (None, 19, 19, 512)       2359808   \n",
      "_________________________________________________________________\n",
      "block4_pool (MaxPooling2D)   (None, 9, 9, 512)         0         \n",
      "_________________________________________________________________\n",
      "block5_conv1 (Conv2D)        (None, 9, 9, 512)         2359808   \n",
      "_________________________________________________________________\n",
      "block5_conv2 (Conv2D)        (None, 9, 9, 512)         2359808   \n",
      "_________________________________________________________________\n",
      "block5_conv3 (Conv2D)        (None, 9, 9, 512)         2359808   \n",
      "_________________________________________________________________\n",
      "block5_pool (MaxPooling2D)   (None, 4, 4, 512)         0         \n",
      "=================================================================\n",
      "Total params: 14,714,688\n",
      "Trainable params: 14,714,688\n",
      "Non-trainable params: 0\n",
      "_________________________________________________________________\n"
     ]
    }
   ],
   "source": [
    "pre_trained_model.summary()"
   ]
  },
  {
   "cell_type": "markdown",
   "metadata": {},
   "source": [
    "Setting the layers of pre trained model to be trainable"
   ]
  },
  {
   "cell_type": "code",
   "execution_count": 16,
   "metadata": {},
   "outputs": [
    {
     "name": "stdout",
     "output_type": "stream",
     "text": [
      "19\n"
     ]
    }
   ],
   "source": [
    "pre_trained_model.trainable = True\n",
    "\n",
    "print(len(pre_trained_model.layers))"
   ]
  },
  {
   "cell_type": "markdown",
   "metadata": {},
   "source": [
    "### Fine Tuning the VGG16 Model"
   ]
  },
  {
   "cell_type": "code",
   "execution_count": 17,
   "metadata": {},
   "outputs": [],
   "source": [
    "fine_tune_at = 17"
   ]
  },
  {
   "cell_type": "markdown",
   "metadata": {},
   "source": [
    "Making some of the layers non-trainable of the VGG16 Model"
   ]
  },
  {
   "cell_type": "code",
   "execution_count": 18,
   "metadata": {},
   "outputs": [],
   "source": [
    "for layer in pre_trained_model.layers[:fine_tune_at]:\n",
    "    layer.trainable = False"
   ]
  },
  {
   "cell_type": "code",
   "execution_count": 19,
   "metadata": {},
   "outputs": [],
   "source": [
    "last_output = pre_trained_model.output"
   ]
  },
  {
   "cell_type": "markdown",
   "metadata": {},
   "source": [
    "Adding some layers to implement VGG16 Model to fit well on our Dataset"
   ]
  },
  {
   "cell_type": "code",
   "execution_count": 20,
   "metadata": {},
   "outputs": [],
   "source": [
    "x = tf.keras.layers.Flatten()(last_output)\n",
    "x = tf.keras.layers.Dense(1024, activation = 'relu')(x)\n",
    "x = tf.keras.layers.Dropout(0.5)(x)\n",
    "x = tf.keras.layers.Dense(8, activation = 'softmax')(x)"
   ]
  },
  {
   "cell_type": "markdown",
   "metadata": {},
   "source": [
    "## Model Formation"
   ]
  },
  {
   "cell_type": "code",
   "execution_count": null,
   "metadata": {},
   "outputs": [],
   "source": [
    "model = tf.keras.Model(pre_trained_model.input, x)"
   ]
  },
  {
   "cell_type": "code",
   "execution_count": 21,
   "metadata": {},
   "outputs": [
    {
     "name": "stdout",
     "output_type": "stream",
     "text": [
      "Model: \"model\"\n",
      "_________________________________________________________________\n",
      "Layer (type)                 Output Shape              Param #   \n",
      "=================================================================\n",
      "input_1 (InputLayer)         [(None, 156, 156, 3)]     0         \n",
      "_________________________________________________________________\n",
      "block1_conv1 (Conv2D)        (None, 156, 156, 64)      1792      \n",
      "_________________________________________________________________\n",
      "block1_conv2 (Conv2D)        (None, 156, 156, 64)      36928     \n",
      "_________________________________________________________________\n",
      "block1_pool (MaxPooling2D)   (None, 78, 78, 64)        0         \n",
      "_________________________________________________________________\n",
      "block2_conv1 (Conv2D)        (None, 78, 78, 128)       73856     \n",
      "_________________________________________________________________\n",
      "block2_conv2 (Conv2D)        (None, 78, 78, 128)       147584    \n",
      "_________________________________________________________________\n",
      "block2_pool (MaxPooling2D)   (None, 39, 39, 128)       0         \n",
      "_________________________________________________________________\n",
      "block3_conv1 (Conv2D)        (None, 39, 39, 256)       295168    \n",
      "_________________________________________________________________\n",
      "block3_conv2 (Conv2D)        (None, 39, 39, 256)       590080    \n",
      "_________________________________________________________________\n",
      "block3_conv3 (Conv2D)        (None, 39, 39, 256)       590080    \n",
      "_________________________________________________________________\n",
      "block3_pool (MaxPooling2D)   (None, 19, 19, 256)       0         \n",
      "_________________________________________________________________\n",
      "block4_conv1 (Conv2D)        (None, 19, 19, 512)       1180160   \n",
      "_________________________________________________________________\n",
      "block4_conv2 (Conv2D)        (None, 19, 19, 512)       2359808   \n",
      "_________________________________________________________________\n",
      "block4_conv3 (Conv2D)        (None, 19, 19, 512)       2359808   \n",
      "_________________________________________________________________\n",
      "block4_pool (MaxPooling2D)   (None, 9, 9, 512)         0         \n",
      "_________________________________________________________________\n",
      "block5_conv1 (Conv2D)        (None, 9, 9, 512)         2359808   \n",
      "_________________________________________________________________\n",
      "block5_conv2 (Conv2D)        (None, 9, 9, 512)         2359808   \n",
      "_________________________________________________________________\n",
      "block5_conv3 (Conv2D)        (None, 9, 9, 512)         2359808   \n",
      "_________________________________________________________________\n",
      "block5_pool (MaxPooling2D)   (None, 4, 4, 512)         0         \n",
      "_________________________________________________________________\n",
      "flatten (Flatten)            (None, 8192)              0         \n",
      "_________________________________________________________________\n",
      "dense (Dense)                (None, 1024)              8389632   \n",
      "_________________________________________________________________\n",
      "dropout (Dropout)            (None, 1024)              0         \n",
      "_________________________________________________________________\n",
      "dense_1 (Dense)              (None, 8)                 8200      \n",
      "=================================================================\n",
      "Total params: 23,112,520\n",
      "Trainable params: 10,757,640\n",
      "Non-trainable params: 12,354,880\n",
      "_________________________________________________________________\n"
     ]
    }
   ],
   "source": [
    "model.summary()"
   ]
  },
  {
   "cell_type": "markdown",
   "metadata": {},
   "source": [
    "Initializing ImageDataGenerator and applying **Image Augmentation**"
   ]
  },
  {
   "cell_type": "code",
   "execution_count": 22,
   "metadata": {},
   "outputs": [
    {
     "name": "stdout",
     "output_type": "stream",
     "text": [
      "Found 305 images belonging to 8 classes.\n",
      "Found 59 images belonging to 8 classes.\n"
     ]
    }
   ],
   "source": [
    "from tensorflow.keras.preprocessing.image import ImageDataGenerator\n",
    "TRAINING_DIR = \"/kaggle/working/identify-dance-form/training\"\n",
    "train_datagen = ImageDataGenerator(rescale=1./255,\n",
    "                                  rotation_range=20,\n",
    "                                  width_shift_range=0.2,\n",
    "                                  height_shift_range=0.2,\n",
    "                                  shear_range=0.1,\n",
    "                                  zoom_range=0.2,\n",
    "                                  horizontal_flip=True,\n",
    "                                  fill_mode='nearest')\n",
    "\n",
    "\n",
    "train_generator = train_datagen.flow_from_directory(TRAINING_DIR,\n",
    "                                                   target_size=(156,156),\n",
    "                                                   color_mode = 'rgb',\n",
    "                                                   batch_size=32,\n",
    "                                                   class_mode='categorical')\n",
    "\n",
    "VALIDATION_DIR = \"/kaggle/working/identify-dance-form/testing\"\n",
    "validation_datagen = ImageDataGenerator(rescale=1./255)\n",
    "\n",
    "\n",
    "validation_generator = validation_datagen.flow_from_directory(VALIDATION_DIR,\n",
    "                                                   target_size=(156,156),\n",
    "                                                   color_mode = 'rgb',\n",
    "                                                   batch_size=32,\n",
    "                                                   class_mode='categorical')"
   ]
  },
  {
   "cell_type": "markdown",
   "metadata": {},
   "source": [
    "Initializing the Model"
   ]
  },
  {
   "cell_type": "code",
   "execution_count": 23,
   "metadata": {},
   "outputs": [],
   "source": [
    "model.compile(tf.keras.optimizers.RMSprop(lr = 0.001), loss='categorical_crossentropy', metrics=['acc'])"
   ]
  },
  {
   "cell_type": "markdown",
   "metadata": {},
   "source": [
    "Initializing the Callback"
   ]
  },
  {
   "cell_type": "code",
   "execution_count": 24,
   "metadata": {},
   "outputs": [],
   "source": [
    "learning_rate_reduction = tf.keras.callbacks.ReduceLROnPlateau(monitor='val_acc', \n",
    "                                            patience=3, \n",
    "                                            verbose=1, \n",
    "                                            factor=0.5, \n",
    "                                            min_lr=0.00001)"
   ]
  },
  {
   "cell_type": "markdown",
   "metadata": {},
   "source": [
    "Fitting the Model"
   ]
  },
  {
   "cell_type": "code",
   "execution_count": 25,
   "metadata": {},
   "outputs": [
    {
     "name": "stdout",
     "output_type": "stream",
     "text": [
      "Train for 10 steps, validate for 2 steps\n",
      "Epoch 1/40\n",
      "10/10 [==============================] - 39s 4s/step - loss: 5.7769 - acc: 0.1738 - val_loss: 1.8943 - val_acc: 0.2203\n",
      "Epoch 2/40\n",
      "10/10 [==============================] - 36s 4s/step - loss: 1.7435 - acc: 0.3246 - val_loss: 1.6184 - val_acc: 0.4237\n",
      "Epoch 3/40\n",
      "10/10 [==============================] - 37s 4s/step - loss: 1.6844 - acc: 0.3770 - val_loss: 1.7790 - val_acc: 0.4576\n",
      "Epoch 4/40\n",
      "10/10 [==============================] - 36s 4s/step - loss: 1.7155 - acc: 0.4197 - val_loss: 1.3404 - val_acc: 0.5763\n",
      "Epoch 5/40\n",
      "10/10 [==============================] - 37s 4s/step - loss: 1.4154 - acc: 0.5049 - val_loss: 1.7197 - val_acc: 0.4746\n",
      "Epoch 6/40\n",
      "10/10 [==============================] - 37s 4s/step - loss: 1.3343 - acc: 0.5180 - val_loss: 1.3312 - val_acc: 0.5424\n",
      "Epoch 7/40\n",
      " 9/10 [==========================>...] - ETA: 3s - loss: 1.2570 - acc: 0.5531\n",
      "Epoch 00007: ReduceLROnPlateau reducing learning rate to 0.0005000000237487257.\n",
      "10/10 [==============================] - 36s 4s/step - loss: 1.2600 - acc: 0.5639 - val_loss: 1.4138 - val_acc: 0.5424\n",
      "Epoch 8/40\n",
      "10/10 [==============================] - 37s 4s/step - loss: 0.8704 - acc: 0.6820 - val_loss: 1.0876 - val_acc: 0.5932\n",
      "Epoch 9/40\n",
      "10/10 [==============================] - 37s 4s/step - loss: 0.8098 - acc: 0.7311 - val_loss: 0.9522 - val_acc: 0.6780\n",
      "Epoch 10/40\n",
      "10/10 [==============================] - 37s 4s/step - loss: 0.6997 - acc: 0.7410 - val_loss: 1.0865 - val_acc: 0.6780\n",
      "Epoch 11/40\n",
      "10/10 [==============================] - 37s 4s/step - loss: 0.6185 - acc: 0.7934 - val_loss: 1.3347 - val_acc: 0.6610\n",
      "Epoch 12/40\n",
      " 9/10 [==========================>...] - ETA: 3s - loss: 0.5372 - acc: 0.8168\n",
      "Epoch 00012: ReduceLROnPlateau reducing learning rate to 0.0002500000118743628.\n",
      "10/10 [==============================] - 36s 4s/step - loss: 0.5387 - acc: 0.8230 - val_loss: 1.1332 - val_acc: 0.6610\n",
      "Epoch 13/40\n",
      "10/10 [==============================] - 37s 4s/step - loss: 0.3770 - acc: 0.8656 - val_loss: 1.0687 - val_acc: 0.6949\n",
      "Epoch 14/40\n",
      "10/10 [==============================] - 37s 4s/step - loss: 0.3614 - acc: 0.8754 - val_loss: 0.8819 - val_acc: 0.7119\n",
      "Epoch 15/40\n",
      "10/10 [==============================] - 36s 4s/step - loss: 0.2884 - acc: 0.8885 - val_loss: 0.9452 - val_acc: 0.7288\n",
      "Epoch 16/40\n",
      "10/10 [==============================] - 37s 4s/step - loss: 0.2543 - acc: 0.9148 - val_loss: 0.9410 - val_acc: 0.7288\n",
      "Epoch 17/40\n",
      "10/10 [==============================] - 36s 4s/step - loss: 0.2327 - acc: 0.9213 - val_loss: 0.8234 - val_acc: 0.7288\n",
      "Epoch 18/40\n",
      "10/10 [==============================] - 37s 4s/step - loss: 0.2505 - acc: 0.9115 - val_loss: 0.9051 - val_acc: 0.7797\n",
      "Epoch 19/40\n",
      "10/10 [==============================] - 37s 4s/step - loss: 0.2167 - acc: 0.9246 - val_loss: 1.0335 - val_acc: 0.7627\n",
      "Epoch 20/40\n",
      "10/10 [==============================] - 36s 4s/step - loss: 0.1796 - acc: 0.9443 - val_loss: 0.9893 - val_acc: 0.6949\n",
      "Epoch 21/40\n",
      " 9/10 [==========================>...] - ETA: 3s - loss: 0.2736 - acc: 0.9194\n",
      "Epoch 00021: ReduceLROnPlateau reducing learning rate to 0.0001250000059371814.\n",
      "10/10 [==============================] - 37s 4s/step - loss: 0.2602 - acc: 0.9246 - val_loss: 0.9987 - val_acc: 0.7119\n",
      "Epoch 22/40\n",
      "10/10 [==============================] - 37s 4s/step - loss: 0.1660 - acc: 0.9410 - val_loss: 0.8355 - val_acc: 0.7288\n",
      "Epoch 23/40\n",
      "10/10 [==============================] - 37s 4s/step - loss: 0.1322 - acc: 0.9607 - val_loss: 0.8668 - val_acc: 0.7119\n",
      "Epoch 24/40\n",
      " 9/10 [==========================>...] - ETA: 3s - loss: 0.1562 - acc: 0.9514\n",
      "Epoch 00024: ReduceLROnPlateau reducing learning rate to 6.25000029685907e-05.\n",
      "10/10 [==============================] - 37s 4s/step - loss: 0.1506 - acc: 0.9508 - val_loss: 0.8007 - val_acc: 0.7458\n",
      "Epoch 25/40\n",
      "10/10 [==============================] - 36s 4s/step - loss: 0.1286 - acc: 0.9639 - val_loss: 0.8938 - val_acc: 0.7458\n",
      "Epoch 26/40\n",
      "10/10 [==============================] - 37s 4s/step - loss: 0.1255 - acc: 0.9738 - val_loss: 0.7865 - val_acc: 0.7797\n",
      "Epoch 27/40\n",
      " 9/10 [==========================>...] - ETA: 3s - loss: 0.1109 - acc: 0.9670\n",
      "Epoch 00027: ReduceLROnPlateau reducing learning rate to 3.125000148429535e-05.\n",
      "10/10 [==============================] - 37s 4s/step - loss: 0.1152 - acc: 0.9639 - val_loss: 0.7829 - val_acc: 0.7797\n",
      "Epoch 28/40\n",
      "10/10 [==============================] - 37s 4s/step - loss: 0.1164 - acc: 0.9672 - val_loss: 0.8172 - val_acc: 0.7797\n",
      "Epoch 29/40\n",
      "10/10 [==============================] - 37s 4s/step - loss: 0.1062 - acc: 0.9672 - val_loss: 0.8098 - val_acc: 0.7458\n",
      "Epoch 30/40\n",
      " 9/10 [==========================>...] - ETA: 3s - loss: 0.1048 - acc: 0.9670\n",
      "Epoch 00030: ReduceLROnPlateau reducing learning rate to 1.5625000742147677e-05.\n",
      "10/10 [==============================] - 36s 4s/step - loss: 0.1072 - acc: 0.9705 - val_loss: 0.7659 - val_acc: 0.7797\n",
      "Epoch 31/40\n",
      "10/10 [==============================] - 37s 4s/step - loss: 0.0987 - acc: 0.9803 - val_loss: 0.7737 - val_acc: 0.7797\n",
      "Epoch 32/40\n",
      "10/10 [==============================] - 37s 4s/step - loss: 0.0717 - acc: 0.9902 - val_loss: 0.7853 - val_acc: 0.7627\n",
      "Epoch 33/40\n",
      " 9/10 [==========================>...] - ETA: 3s - loss: 0.1220 - acc: 0.9560\n",
      "Epoch 00033: ReduceLROnPlateau reducing learning rate to 1e-05.\n",
      "10/10 [==============================] - 37s 4s/step - loss: 0.1208 - acc: 0.9607 - val_loss: 0.7952 - val_acc: 0.7627\n",
      "Epoch 34/40\n",
      "10/10 [==============================] - 37s 4s/step - loss: 0.1043 - acc: 0.9672 - val_loss: 0.8010 - val_acc: 0.7627\n",
      "Epoch 35/40\n",
      "10/10 [==============================] - 36s 4s/step - loss: 0.1360 - acc: 0.9639 - val_loss: 0.7930 - val_acc: 0.7627\n",
      "Epoch 36/40\n",
      "10/10 [==============================] - 37s 4s/step - loss: 0.0874 - acc: 0.9803 - val_loss: 0.7823 - val_acc: 0.7627\n",
      "Epoch 37/40\n",
      "10/10 [==============================] - 37s 4s/step - loss: 0.1336 - acc: 0.9672 - val_loss: 0.7818 - val_acc: 0.7797\n",
      "Epoch 38/40\n",
      "10/10 [==============================] - 36s 4s/step - loss: 0.0795 - acc: 0.9770 - val_loss: 0.7726 - val_acc: 0.7797\n",
      "Epoch 39/40\n",
      "10/10 [==============================] - 37s 4s/step - loss: 0.1195 - acc: 0.9705 - val_loss: 0.7704 - val_acc: 0.7966\n",
      "Epoch 40/40\n",
      "10/10 [==============================] - 36s 4s/step - loss: 0.0605 - acc: 0.9836 - val_loss: 0.7672 - val_acc: 0.7966\n"
     ]
    }
   ],
   "source": [
    "history = model.fit_generator(train_generator,\n",
    "                              epochs=40,\n",
    "                              verbose=1,\n",
    "                              validation_data=validation_generator,\n",
    "                             callbacks = [learning_rate_reduction])"
   ]
  },
  {
   "cell_type": "markdown",
   "metadata": {},
   "source": [
    "Graphical Comparison of Training and validation - accuracy and loss"
   ]
  },
  {
   "cell_type": "code",
   "execution_count": 26,
   "metadata": {},
   "outputs": [
    {
     "data": {
      "image/png": "[encoded data removed]",
      "text/plain": [
       "<Figure size 1080x504 with 2 Axes>"
      ]
     },
     "metadata": {
      "needs_background": "light"
     },
     "output_type": "display_data"
    }
   ],
   "source": [
    "plt.figure(figsize=(15,7))\n",
    "ax1 = plt.subplot(1,2,1)\n",
    "ax1.plot(history.history['loss'], color='b', label='Training Loss') \n",
    "ax1.plot(history.history['val_loss'], color='r', label = 'Validation Loss',axes=ax1)\n",
    "legend = ax1.legend(loc='best', shadow=True)\n",
    "ax2 = plt.subplot(1,2,2)\n",
    "ax2.plot(history.history['acc'], color='b', label='Training Accuracy') \n",
    "ax2.plot(history.history['val_acc'], color='r', label = 'Validation Accuracy')\n",
    "legend = ax2.legend(loc='best', shadow=True)"
   ]
  },
  {
   "cell_type": "markdown",
   "metadata": {},
   "source": [
    "Reading the jpg files from the test directory and saving their names in the list named files"
   ]
  },
  {
   "cell_type": "markdown",
   "metadata": {},
   "source": [
    "## Predicting the test images labels and preparing submission file"
   ]
  },
  {
   "cell_type": "code",
   "execution_count": 47,
   "metadata": {},
   "outputs": [],
   "source": [
    "fil = []\n",
    "for  r, d, f in os.walk(test_dir):\n",
    "    for file in f:\n",
    "        if '.jpg' in file:\n",
    "            fil.append(file)"
   ]
  },
  {
   "cell_type": "markdown",
   "metadata": {},
   "source": [
    "One of the images from train directory"
   ]
  },
  {
   "cell_type": "code",
   "execution_count": 49,
   "metadata": {},
   "outputs": [
    {
     "data": {
      "text/plain": [
       "<matplotlib.image.AxesImage at 0x7f36cc056cd0>"
      ]
     },
     "execution_count": 49,
     "metadata": {},
     "output_type": "execute_result"
    },
    {
     "data": {
      "image/png": "[encoded data removed]",
      "text/plain": [
       "<Figure size 432x288 with 1 Axes>"
      ]
     },
     "metadata": {
      "needs_background": "light"
     },
     "output_type": "display_data"
    }
   ],
   "source": [
    "plt.imshow(mpimg.imread(os.path.join(test_dir,fil[0])))"
   ]
  },
  {
   "cell_type": "markdown",
   "metadata": {},
   "source": [
    "Copying images from the train directory to the tests directory - to prepare it for predict_generator function"
   ]
  },
  {
   "cell_type": "code",
   "execution_count": 50,
   "metadata": {},
   "outputs": [],
   "source": [
    "for x in fil:\n",
    "    train_temp = os.path.join(test_dir,x)\n",
    "    final_train = os.path.join('/kaggle/working/identify-dance-form/tests/unknown',x)\n",
    "    copyfile(train_temp, final_train)"
   ]
  },
  {
   "cell_type": "code",
   "execution_count": 51,
   "metadata": {},
   "outputs": [
    {
     "name": "stdout",
     "output_type": "stream",
     "text": [
      "Found 156 images belonging to 1 classes.\n"
     ]
    }
   ],
   "source": [
    "tests_dir = '/kaggle/working/identify-dance-form/tests'\n",
    "test_datagen = ImageDataGenerator(rescale = 1./255)\n",
    "test_generator = test_datagen.flow_from_directory(tests_dir,\n",
    "                                                  target_size = (156,156),\n",
    "                                                  color_mode = 'rgb',\n",
    "                                                  batch_size=32,\n",
    "                                                  class_mode=None,\n",
    "                                                  shuffle=False,\n",
    "                                                  seed=42)"
   ]
  },
  {
   "cell_type": "markdown",
   "metadata": {},
   "source": [
    "Saving train images names in img_list"
   ]
  },
  {
   "cell_type": "code",
   "execution_count": 52,
   "metadata": {},
   "outputs": [],
   "source": [
    "img_list = []\n",
    "for x in test_generator.filenames:\n",
    "    x = x.split('/')[1]\n",
    "    img_list.append(x)"
   ]
  },
  {
   "cell_type": "markdown",
   "metadata": {},
   "source": [
    "Making prediction on test images using predict_trainer"
   ]
  },
  {
   "cell_type": "code",
   "execution_count": 54,
   "metadata": {},
   "outputs": [],
   "source": [
    "predictions = model.predict_generator(test_generator)"
   ]
  },
  {
   "cell_type": "markdown",
   "metadata": {},
   "source": [
    "Converting the probabalities we got from softmax layers into the integer labels"
   ]
  },
  {
   "cell_type": "code",
   "execution_count": 55,
   "metadata": {},
   "outputs": [],
   "source": [
    "predicted_clases = np.argmax(predictions,axis=-1)"
   ]
  },
  {
   "cell_type": "code",
   "execution_count": 56,
   "metadata": {},
   "outputs": [
    {
     "name": "stdout",
     "output_type": "stream",
     "text": [
      "[4 1 4 0 3 0 3 0 0 6 3 3 1 0 0 0 6 7 0 3 1 0 0 0 1 2 2 2 2 2 2 1 2 2 2 2 2\n",
      " 2 2 2 2 2 1 2 2 2 3 5 6 6 4 5 3 5 1 7 5 6 1 5 5 5 5 6 5 1 7 1 7 7 7 1 7 7\n",
      " 1 7 3 7 1 7 7 7 4 7 6 3 5 3 1 7 3 3 3 7 6 1 1 6 6 3 1 3 3 3 4 3 4 1 3 3 3\n",
      " 6 6 6 1 6 6 6 6 6 6 6 7 6 0 6 5 6 6 6 6 6 6 7 3 6 1 0 6 3 6 6 7 1 7 1 1 2\n",
      " 1 4 4 4 1 4 4 4]\n"
     ]
    }
   ],
   "source": [
    "print(predicted_clases)"
   ]
  },
  {
   "cell_type": "markdown",
   "metadata": {},
   "source": [
    "Class Indices assigned to the sub classes by the train_generator"
   ]
  },
  {
   "cell_type": "code",
   "execution_count": 58,
   "metadata": {},
   "outputs": [
    {
     "data": {
      "text/plain": [
       "{'bharatanatyam': 0,\n",
       " 'kathak': 1,\n",
       " 'kathakali': 2,\n",
       " 'kuchipudi': 3,\n",
       " 'manipuri': 4,\n",
       " 'mohiniyattam': 5,\n",
       " 'odissi': 6,\n",
       " 'sattriya': 7}"
      ]
     },
     "execution_count": 58,
     "metadata": {},
     "output_type": "execute_result"
    }
   ],
   "source": [
    "train_generator.class_indices"
   ]
  },
  {
   "cell_type": "markdown",
   "metadata": {},
   "source": [
    "Creating a DataFrame with the image name and the predicted image label"
   ]
  },
  {
   "cell_type": "code",
   "execution_count": 59,
   "metadata": {},
   "outputs": [],
   "source": [
    "data = {'Image': img_list, 'target': predicted_clases}"
   ]
  },
  {
   "cell_type": "code",
   "execution_count": 60,
   "metadata": {},
   "outputs": [
    {
     "data": {
      "text/html": [
       "<div>\n",
       "<style scoped>\n",
       "    .dataframe tbody tr th:only-of-type {\n",
       "        vertical-align: middle;\n",
       "    }\n",
       "\n",
       "    .dataframe tbody tr th {\n",
       "        vertical-align: top;\n",
       "    }\n",
       "\n",
       "    .dataframe thead th {\n",
       "        text-align: right;\n",
       "    }\n",
       "</style>\n",
       "<table border=\"1\" class=\"dataframe\">\n",
       "  <thead>\n",
       "    <tr style=\"text-align: right;\">\n",
       "      <th></th>\n",
       "      <th>Image</th>\n",
       "      <th>target</th>\n",
       "    </tr>\n",
       "  </thead>\n",
       "  <tbody>\n",
       "    <tr>\n",
       "      <th>0</th>\n",
       "      <td>108.jpg</td>\n",
       "      <td>4</td>\n",
       "    </tr>\n",
       "    <tr>\n",
       "      <th>1</th>\n",
       "      <td>11.jpg</td>\n",
       "      <td>1</td>\n",
       "    </tr>\n",
       "    <tr>\n",
       "      <th>2</th>\n",
       "      <td>110.jpg</td>\n",
       "      <td>4</td>\n",
       "    </tr>\n",
       "    <tr>\n",
       "      <th>3</th>\n",
       "      <td>112.jpg</td>\n",
       "      <td>0</td>\n",
       "    </tr>\n",
       "    <tr>\n",
       "      <th>4</th>\n",
       "      <td>114.jpg</td>\n",
       "      <td>3</td>\n",
       "    </tr>\n",
       "  </tbody>\n",
       "</table>\n",
       "</div>"
      ],
      "text/plain": [
       "     Image  target\n",
       "0  108.jpg       4\n",
       "1   11.jpg       1\n",
       "2  110.jpg       4\n",
       "3  112.jpg       0\n",
       "4  114.jpg       3"
      ]
     },
     "execution_count": 60,
     "metadata": {},
     "output_type": "execute_result"
    }
   ],
   "source": [
    "df = pd.DataFrame(data)\n",
    "df.head()"
   ]
  },
  {
   "cell_type": "markdown",
   "metadata": {},
   "source": [
    "Mapping back the class indices with the class label name"
   ]
  },
  {
   "cell_type": "code",
   "execution_count": 61,
   "metadata": {},
   "outputs": [],
   "source": [
    "df['target']= df['target'].map({0: 'bharatanatyam',\n",
    "                                1: 'kathak',\n",
    "                                2: 'kathakali',\n",
    "                                3: 'kuchipudi',\n",
    "                                4: 'manipuri',\n",
    "                                5: 'mohiniyattam',\n",
    "                                6: 'odissi',\n",
    "                                7: 'sattriya'})"
   ]
  },
  {
   "cell_type": "code",
   "execution_count": 62,
   "metadata": {},
   "outputs": [
    {
     "data": {
      "text/html": [
       "<div>\n",
       "<style scoped>\n",
       "    .dataframe tbody tr th:only-of-type {\n",
       "        vertical-align: middle;\n",
       "    }\n",
       "\n",
       "    .dataframe tbody tr th {\n",
       "        vertical-align: top;\n",
       "    }\n",
       "\n",
       "    .dataframe thead th {\n",
       "        text-align: right;\n",
       "    }\n",
       "</style>\n",
       "<table border=\"1\" class=\"dataframe\">\n",
       "  <thead>\n",
       "    <tr style=\"text-align: right;\">\n",
       "      <th></th>\n",
       "      <th>Image</th>\n",
       "      <th>target</th>\n",
       "    </tr>\n",
       "  </thead>\n",
       "  <tbody>\n",
       "    <tr>\n",
       "      <th>0</th>\n",
       "      <td>108.jpg</td>\n",
       "      <td>manipuri</td>\n",
       "    </tr>\n",
       "    <tr>\n",
       "      <th>1</th>\n",
       "      <td>11.jpg</td>\n",
       "      <td>kathak</td>\n",
       "    </tr>\n",
       "    <tr>\n",
       "      <th>2</th>\n",
       "      <td>110.jpg</td>\n",
       "      <td>manipuri</td>\n",
       "    </tr>\n",
       "    <tr>\n",
       "      <th>3</th>\n",
       "      <td>112.jpg</td>\n",
       "      <td>bharatanatyam</td>\n",
       "    </tr>\n",
       "    <tr>\n",
       "      <th>4</th>\n",
       "      <td>114.jpg</td>\n",
       "      <td>kuchipudi</td>\n",
       "    </tr>\n",
       "  </tbody>\n",
       "</table>\n",
       "</div>"
      ],
      "text/plain": [
       "     Image         target\n",
       "0  108.jpg       manipuri\n",
       "1   11.jpg         kathak\n",
       "2  110.jpg       manipuri\n",
       "3  112.jpg  bharatanatyam\n",
       "4  114.jpg      kuchipudi"
      ]
     },
     "execution_count": 62,
     "metadata": {},
     "output_type": "execute_result"
    }
   ],
   "source": [
    "df.head()"
   ]
  },
  {
   "cell_type": "markdown",
   "metadata": {},
   "source": [
    "Exporting csv file for submission"
   ]
  },
  {
   "cell_type": "code",
   "execution_count": 64,
   "metadata": {},
   "outputs": [],
   "source": [
    "df.to_csv(r'submission_dance.csv', index = False)"
   ]
  }
 ],
 "metadata": {
  "kernelspec": {
   "display_name": "Python 3",
   "language": "python",
   "name": "python3"
  },
  "language_info": {
   "codemirror_mode": {
    "name": "ipython",
    "version": 3
   },
   "file_extension": ".py",
   "mimetype": "text/x-python",
   "name": "python",
   "nbconvert_exporter": "python",
   "pygments_lexer": "ipython3",
   "version": "3.7.1"
  }
 },
 "nbformat": 4,
 "nbformat_minor": 4
}
